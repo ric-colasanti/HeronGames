{
 "cells": [
  {
   "cell_type": "code",
   "execution_count": 2,
   "metadata": {},
   "outputs": [],
   "source": [
    "from os import listdir\n",
    "import pandas as pd\n",
    "import numpy as np\n",
    "import matplotlib.pyplot as plt\n",
    "import scipy.cluster.hierarchy as sch\n",
    "import pylab"
   ]
  },
  {
   "cell_type": "code",
   "execution_count": 3,
   "metadata": {},
   "outputs": [
    {
     "name": "stdout",
     "output_type": "stream",
     "text": [
      "['017.TXT', '074.TXT', '041.TXT', '009.TXT', '014.TXT', '004.TXT', '046.TXT', '099.TXT', '081.TXT', '065.TXT', '025.TXT', '072.TXT', '042.TXT', '066.TXT', '024.TXT', '015 coughing after approx 90s.TXT', '028.TXT', '069.TXT', '090.TXT', '036.TXT', '084.TXT', '022.TXT', '052.TXT', '047.TXT']\n"
     ]
    }
   ],
   "source": [
    "files = listdir('data')\n",
    "print(files)"
   ]
  },
  {
   "cell_type": "code",
   "execution_count": 50,
   "metadata": {},
   "outputs": [],
   "source": [
    "filename = \"014\"\n",
    "data = np.genfromtxt('data/'+filename+'.TXT', delimiter='\\t')\n",
    "data = data*-1\n",
    "np.savetxt('data/'+filename+'.TXT',data, delimiter='\\t')"
   ]
  },
  {
   "cell_type": "code",
   "execution_count": null,
   "metadata": {},
   "outputs": [],
   "source": []
  }
 ],
 "metadata": {
  "kernelspec": {
   "display_name": "Python 3",
   "language": "python",
   "name": "python3"
  },
  "language_info": {
   "codemirror_mode": {
    "name": "ipython",
    "version": 3
   },
   "file_extension": ".py",
   "mimetype": "text/x-python",
   "name": "python",
   "nbconvert_exporter": "python",
   "pygments_lexer": "ipython3",
   "version": "3.7.3"
  }
 },
 "nbformat": 4,
 "nbformat_minor": 2
}
