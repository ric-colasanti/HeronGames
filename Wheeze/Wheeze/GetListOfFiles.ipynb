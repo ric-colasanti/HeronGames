{
 "metadata": {
  "name": ""
 },
 "nbformat": 3,
 "nbformat_minor": 0,
 "worksheets": [
  {
   "cells": [
    {
     "cell_type": "heading",
     "level": 1,
     "metadata": {},
     "source": [
      "Get a list of files in current directory"
     ]
    },
    {
     "cell_type": "code",
     "collapsed": false,
     "input": [
      "x = !ls"
     ],
     "language": "python",
     "metadata": {},
     "outputs": [],
     "prompt_number": 1
    },
    {
     "cell_type": "code",
     "collapsed": false,
     "input": [
      "for s in x:\n",
      "    print (s)"
     ],
     "language": "python",
     "metadata": {},
     "outputs": [
      {
       "output_type": "stream",
       "stream": "stdout",
       "text": [
        "CPCycleReadAndSeparate.ipynb\n",
        "Data\n",
        "GetListOfFiles.ipynb\n",
        "PIP centroids 2..JNB\n",
        "RawData\n",
        "Wheeze.py\n",
        "Wheeze.py~\n"
       ]
      }
     ],
     "prompt_number": 2
    },
    {
     "cell_type": "code",
     "collapsed": false,
     "input": [],
     "language": "python",
     "metadata": {},
     "outputs": []
    }
   ],
   "metadata": {}
  }
 ]
}